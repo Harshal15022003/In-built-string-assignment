{
 "cells": [
  {
   "cell_type": "code",
   "execution_count": 1,
   "id": "7545519f-372d-4faa-9782-473c941c2fd0",
   "metadata": {},
   "outputs": [],
   "source": [
    "#Question 1\n",
    "#What is the purpose of the len() function in Python, and how can it be used with strings?\n"
   ]
  },
  {
   "cell_type": "code",
   "execution_count": 2,
   "id": "dddf7fd1-50eb-49d7-9908-7331147fb203",
   "metadata": {},
   "outputs": [],
   "source": [
    "#Answer 1\n",
    "#The len() function in Python is used to return the length (the number of items) of an object. This function can be used with various types of objects, such as strings, lists, tuples, dictionaries, and sets. When used with strings, len() returns the number of characters in the string, including spaces and special characters."
   ]
  },
  {
   "cell_type": "code",
   "execution_count": 3,
   "id": "2061b8d2-ac3e-45e6-8ec4-26f657ec970d",
   "metadata": {},
   "outputs": [],
   "source": [
    "#Question 2\n",
    "#How can you concatenate two or more strings in Python, and can you provide an example of string \n",
    "#concatenation?"
   ]
  },
  {
   "cell_type": "code",
   "execution_count": 4,
   "id": "41bec056-b52e-4099-aed2-5dcaeac7b817",
   "metadata": {},
   "outputs": [],
   "source": [
    "#Answer 2\n",
    "#n Python, you can concatenate (combine) two or more strings using several methods. The most common methods include using the + operator, the += operator, and the join() method."
   ]
  },
  {
   "cell_type": "code",
   "execution_count": 5,
   "id": "2fd1b46d-c4ab-488c-a13c-5b3991a2fa04",
   "metadata": {},
   "outputs": [
    {
     "name": "stdout",
     "output_type": "stream",
     "text": [
      "Hello World\n"
     ]
    }
   ],
   "source": [
    "#Using the + Operator:\n",
    "string1 = \"Hello\"\n",
    "string2 = \"World\"\n",
    "result = string1 + \" \" + string2\n",
    "print(result)  # Output: Hello World\n"
   ]
  },
  {
   "cell_type": "code",
   "execution_count": 6,
   "id": "f2e594f7-b5d7-4cb0-82df-7425157f80f8",
   "metadata": {},
   "outputs": [
    {
     "name": "stdout",
     "output_type": "stream",
     "text": [
      "Hello World\n"
     ]
    }
   ],
   "source": [
    "#Using the += Operator:\n",
    "string1 = \"Hello\"\n",
    "string1 += \" World\"\n",
    "print(string1)  # Output: Hello World\n"
   ]
  },
  {
   "cell_type": "code",
   "execution_count": 7,
   "id": "b8bcb6d3-9e20-4bfd-80a7-582847fcd75d",
   "metadata": {},
   "outputs": [],
   "source": [
    "#Question 3\n",
    "# What is string slicing in Python, and how can you extract a portion of a string using this method?"
   ]
  },
  {
   "cell_type": "code",
   "execution_count": 8,
   "id": "2d31ab29-6b72-44cd-a6f8-c9be23751d22",
   "metadata": {},
   "outputs": [],
   "source": [
    "#Answer 3\n",
    "#String slicing in Python is a way to extract a specific portion of a string by specifying a range of indices. It allows you to create a new string from a substring of an existing string."
   ]
  },
  {
   "cell_type": "code",
   "execution_count": 10,
   "id": "cf34de65-370b-4338-954c-c6f9980d9392",
   "metadata": {},
   "outputs": [],
   "source": [
    "#The general syntax for string slicing is:\n",
    "#substring = string[start:stop:step]\n"
   ]
  },
  {
   "cell_type": "code",
   "execution_count": 11,
   "id": "08a92fe8-6f9d-4752-9a96-b47be8b04e3b",
   "metadata": {},
   "outputs": [],
   "source": [
    "#start (optional): The starting index of the slice. The slice will include the character at this index. Defaults to the beginning of the string if not specified.\n",
    "#stop (optional): The ending index of the slice. The slice will stop just before this index, not including the character at this index. Defaults to the end of the string if not specified.\n",
    "#step (optional): The step value determines the increment between each index for slicing. Defaults to 1 if not specified."
   ]
  },
  {
   "cell_type": "code",
   "execution_count": 12,
   "id": "59c6527a-7cc8-4926-bfa8-10f3c9527050",
   "metadata": {},
   "outputs": [],
   "source": [
    "#Question 4\n",
    "# How can you change the case of a string in Python, and can you provide examples of both making a string \n",
    "#all uppercase and all lowercase?\n",
    "\n",
    "\n"
   ]
  },
  {
   "cell_type": "code",
   "execution_count": 13,
   "id": "24a403ff-2619-485f-aa5c-bc294ccf5969",
   "metadata": {},
   "outputs": [],
   "source": [
    "#Answer 4\n",
    "#n Python, you can change the case of a string using several built-in string methods. The most commonly used methods for changing the case are upper() and lower(), which convert all characters in a string to uppercase and lowercase, respectively."
   ]
  },
  {
   "cell_type": "code",
   "execution_count": 14,
   "id": "ef35f46a-9d88-404d-a4e7-28b86bdddfb2",
   "metadata": {},
   "outputs": [
    {
     "name": "stdout",
     "output_type": "stream",
     "text": [
      "HELLO, WORLD!\n"
     ]
    }
   ],
   "source": [
    "#Making a String All Uppercase:\n",
    "my_string = \"Hello, World!\"\n",
    "uppercase_string = my_string.upper()\n",
    "print(uppercase_string)  # Output: HELLO, WORLD!\n"
   ]
  },
  {
   "cell_type": "code",
   "execution_count": 15,
   "id": "b14d26d0-2ddb-4ebd-8933-74ea5ef52233",
   "metadata": {},
   "outputs": [
    {
     "name": "stdout",
     "output_type": "stream",
     "text": [
      "hello, world!\n"
     ]
    }
   ],
   "source": [
    "#Making a String All Lowercase:\n",
    "my_string = \"Hello, World!\"\n",
    "lowercase_string = my_string.lower()\n",
    "print(lowercase_string)  # Output: hello, world!\n"
   ]
  },
  {
   "cell_type": "code",
   "execution_count": 16,
   "id": "a23cf758-6b4e-4dae-9d6f-5ad79e12dafb",
   "metadata": {},
   "outputs": [],
   "source": [
    "#Question 5\n",
    "#What does the split() method do in Python, and how can you split a string using a specific delimiter?"
   ]
  },
  {
   "cell_type": "code",
   "execution_count": 17,
   "id": "e4ed12e0-3b29-46d3-aa6a-3f3360e67196",
   "metadata": {},
   "outputs": [],
   "source": [
    "#Answer 5\n",
    "#The split() method in Python is used to divide a string into a list of substrings based on a specified delimiter. By default, split() uses any whitespace as the delimiter, but you can specify a different delimiter if needed."
   ]
  },
  {
   "cell_type": "code",
   "execution_count": 18,
   "id": "fb7f25b0-0948-495f-9245-45dc60060896",
   "metadata": {},
   "outputs": [
    {
     "name": "stdout",
     "output_type": "stream",
     "text": [
      "['apple', 'banana', 'cherry', 'date']\n"
     ]
    }
   ],
   "source": [
    "#Splitting Using a Specific Delimiter:\n",
    "my_string = \"apple,banana,cherry,date\"\n",
    "fruits = my_string.split(\",\")\n",
    "print(fruits)  # Output: ['apple', 'banana', 'cherry', 'date']\n"
   ]
  },
  {
   "cell_type": "code",
   "execution_count": null,
   "id": "b37337df-15f9-4ad8-906f-a8ff821b69a3",
   "metadata": {},
   "outputs": [],
   "source": []
  }
 ],
 "metadata": {
  "kernelspec": {
   "display_name": "Python 3 (ipykernel)",
   "language": "python",
   "name": "python3"
  },
  "language_info": {
   "codemirror_mode": {
    "name": "ipython",
    "version": 3
   },
   "file_extension": ".py",
   "mimetype": "text/x-python",
   "name": "python",
   "nbconvert_exporter": "python",
   "pygments_lexer": "ipython3",
   "version": "3.10.8"
  }
 },
 "nbformat": 4,
 "nbformat_minor": 5
}
